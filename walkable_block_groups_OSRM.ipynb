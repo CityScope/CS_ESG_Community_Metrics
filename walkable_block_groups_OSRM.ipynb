{
 "cells": [
  {
   "cell_type": "code",
   "execution_count": 1,
   "metadata": {},
   "outputs": [],
   "source": [
    "import math\n",
    "import geopandas as gpd\n",
    "import osmnx as ox\n",
    "import numpy as np\n",
    "import urllib.request\n",
    "from time import sleep\n",
    "import json\n",
    "import pyproj"
   ]
  },
  {
   "cell_type": "markdown",
   "metadata": {},
   "source": [
    "### TODO: identify neighbouring states and consider block groups in these states as potentially walkable."
   ]
  },
  {
   "cell_type": "markdown",
   "metadata": {},
   "source": [
    "# Find the BGs within 15 minutes walking distance of every BG"
   ]
  },
  {
   "cell_type": "code",
   "execution_count": 2,
   "metadata": {},
   "outputs": [],
   "source": [
    "def get_haversine_distance(point_1, point_2):\n",
    "    \"\"\"\n",
    "    Calculate the distance between any 2 points on earth given as [lon, lat]\n",
    "    \"\"\"\n",
    "    # convert decimal degrees to radians\n",
    "    lon1, lat1, lon2, lat2 = map(math.radians, [point_1[0], point_1[1], \n",
    "                                                point_2[0], point_2[1]])\n",
    "    # haversine formula \n",
    "    dlon = lon2 - lon1 \n",
    "    dlat = lat2 - lat1 \n",
    "    a = math.sin(dlat/2)**2 + math.cos(lat1) * math.cos(lat2) * math.sin(dlon/2)**2\n",
    "    c = 2 * math.asin(math.sqrt(a)) \n",
    "    r = 6371000 # Radius of earth in kilometers. Use 3956 for miles\n",
    "    return c * r\n",
    "\n",
    "def getOSRMDirections(mode, start_lon, start_lat, end_lon, end_lat):\n",
    "    str_ll='{},{};{},{}'.format(start_lon, start_lat, end_lon, end_lat)\n",
    "    try:\n",
    "        with urllib.request.urlopen('http://router.project-osrm.org/route/v1/'+str(mode)+'/'+str_ll+'?overview=false') as url:\n",
    "            data=json.loads(url.read().decode())\n",
    "            #in meters and seconds\n",
    "        return data['routes']\n",
    "        # if the call request is unsuccessful, wait and try again\n",
    "    except:\n",
    "        print('Sleeping')\n",
    "        sleep(10)\n",
    "        routes=getOSRMDirections(mode, start_lon, start_lat, end_lon, end_lat)\n",
    "        return routes\n",
    "    \n",
    "def get_OSRM_matrix(mode, str_coords_comb, str_dest_nums):\n",
    "    query='http://router.project-osrm.org/table/v1/{}/{}?sources=0&destinations={}&annotations=distance,duration'.format(mode, str_coords_comb, str_dest_nums)\n",
    "    try:\n",
    "        with urllib.request.urlopen(query) as url:\n",
    "            data=json.loads(url.read().decode())\n",
    "            #in meters and seconds\n",
    "        return data\n",
    "        # if the call request is unsuccessful, wait and try again\n",
    "    except:\n",
    "        print('Sleeping')\n",
    "        sleep(10)\n",
    "        data=get_OSRM_matrix(mode, str_coords_comb, str_dest_nums)\n",
    "        return data"
   ]
  },
  {
   "cell_type": "code",
   "execution_count": 3,
   "metadata": {},
   "outputs": [],
   "source": [
    "year=2017\n",
    "state_fips=25\n",
    "bg=gpd.read_file('https://www2.census.gov/geo/tiger/TIGER{}/BG/tl_{}_{}_bg.zip'.format(year, year, state_fips))"
   ]
  },
  {
   "cell_type": "markdown",
   "metadata": {},
   "source": [
    "### Get straight line distances between every pair of BGs in order to rule out some pairs as walkable"
   ]
  },
  {
   "cell_type": "code",
   "execution_count": 4,
   "metadata": {},
   "outputs": [],
   "source": [
    "def get_lon_lat_centroid(polygon_row):\n",
    "    centroid=polygon_row.geometry.centroid\n",
    "    return [centroid.x, centroid.y]"
   ]
  },
  {
   "cell_type": "code",
   "execution_count": 5,
   "metadata": {},
   "outputs": [],
   "source": [
    "bg['centroid_lon_lat']=bg.apply(lambda row: get_lon_lat_centroid(row), axis=1)"
   ]
  },
  {
   "cell_type": "code",
   "execution_count": 6,
   "metadata": {},
   "outputs": [],
   "source": [
    "straight_dist_mat=np.zeros((len(bg), len(bg)))"
   ]
  },
  {
   "cell_type": "code",
   "execution_count": 7,
   "metadata": {},
   "outputs": [],
   "source": [
    "centroids=bg['centroid_lon_lat']"
   ]
  },
  {
   "cell_type": "code",
   "execution_count": 8,
   "metadata": {},
   "outputs": [
    {
     "name": "stdout",
     "output_type": "stream",
     "text": [
      "0\n",
      "1000\n",
      "2000\n",
      "3000\n",
      "4000\n"
     ]
    }
   ],
   "source": [
    "for i in range(len(bg)):\n",
    "    if i%1000==0:\n",
    "        print(i)\n",
    "    straight_dist_mat[i, i]=0\n",
    "    point_1=centroids[i]\n",
    "    for j in range(i+1, len(bg)):\n",
    "        point_2=centroids[j]\n",
    "        dist=get_haversine_distance(point_1, point_2)\n",
    "        straight_dist_mat[i, j]=dist\n",
    "        straight_dist_mat[j, i]=dist   "
   ]
  },
  {
   "cell_type": "markdown",
   "metadata": {},
   "source": [
    "### Get the distances to the potentially walkable BGs using individual requests"
   ]
  },
  {
   "cell_type": "code",
   "execution_count": 9,
   "metadata": {},
   "outputs": [],
   "source": [
    "# bg_to_walkable_bg={}\n",
    "# for i in range(len(bg)):\n",
    "#     if i%100==0:\n",
    "#         print(i)\n",
    "#     ind_bg_to_check=np.where(straight_dist_mat[i, :]<1200)[0]\n",
    "#     ind_walkable=[]\n",
    "#     durations, distances=[], []\n",
    "#     point_1=centroids[i]\n",
    "#     for j in ind_bg_to_check:\n",
    "#         point_2=centroids[j]       \n",
    "#         routes=getOSRMDirections('walking', point_1[0], point_1[1], point_2[0], point_2[1])\n",
    "#         duration=routes[0]['duration']\n",
    "#         distance=routes[0]['distance']\n",
    "#         durations.append(duration)\n",
    "#         distances.append(distance)\n",
    "#         if distance<1200:\n",
    "#             ind_walkable.append(j)\n",
    "#     bg_to_walkable_bg[bg.iloc[i]['GEOID']]=bg.iloc[ind_walkable]['GEOID'].values.tolist()\n",
    "\n"
   ]
  },
  {
   "cell_type": "markdown",
   "metadata": {},
   "source": [
    "### Get the distances to the potentially walkable BGs using matrix requests"
   ]
  },
  {
   "cell_type": "code",
   "execution_count": 10,
   "metadata": {},
   "outputs": [],
   "source": [
    "bg_to_walkable_bg={}"
   ]
  },
  {
   "cell_type": "code",
   "execution_count": 11,
   "metadata": {},
   "outputs": [
    {
     "name": "stdout",
     "output_type": "stream",
     "text": [
      "0\n",
      "1000\n",
      "2000\n",
      "3000\n",
      "4000\n"
     ]
    }
   ],
   "source": [
    "for i in range(len(bg)):\n",
    "    if i%1000==0:\n",
    "        print(i)\n",
    "        json.dump(bg_to_walkable_bg, open('bg_to_walkable_bg_osrm.json', 'w'))\n",
    "    ind_bg_to_check=np.where(straight_dist_mat[i, :]<1200)[0]\n",
    "    str_source_coords='{},{}'.format(centroids[i][0], centroids[i][1])\n",
    "    list_str_dest_coords=['{},{}'.format(centroids[j][0], centroids[j][1]) for j in ind_bg_to_check]\n",
    "    str_coords_comb=';'.join([str_source_coords]+list_str_dest_coords)\n",
    "    str_dest_nums=';'.join([str(i) for i in range(1,len(list_str_dest_coords)+1)])\n",
    "    # get durations from API                            \n",
    "    data=get_OSRM_matrix('walking', str_coords_comb, str_dest_nums)\n",
    "    distances=data['distances'][0]\n",
    "    ind_walkable=[ind_bg_to_check[i] for i in range(len(distances)) if distances[i]<1200]\n",
    "    bg_to_walkable_bg[bg.iloc[i]['GEOID']]=bg.iloc[ind_walkable]['GEOID'].values.tolist()           "
   ]
  },
  {
   "cell_type": "code",
   "execution_count": 12,
   "metadata": {},
   "outputs": [],
   "source": [
    "json.dump(bg_to_walkable_bg, open('bg_to_walkable_bg_osrm_{}.json'.format(state_fips), 'w'))"
   ]
  },
  {
   "cell_type": "code",
   "execution_count": null,
   "metadata": {
    "collapsed": true
   },
   "outputs": [],
   "source": [
    "# bg_to_walkable_bg=json.load(open('bg_to_walkable_bg_osrm.json'))"
   ]
  },
  {
   "cell_type": "markdown",
   "metadata": {},
   "source": [
    "# Check results with a few block groups"
   ]
  },
  {
   "cell_type": "code",
   "execution_count": null,
   "metadata": {},
   "outputs": [],
   "source": [
    "import random\n",
    "centre_block=random.choice([bg for bg in bg_to_walkable_bg])\n",
    "bg_shp_center=bg.loc[bg['GEOID']==centre_block]\n",
    "bg_shp_reachable=bg.loc[bg['GEOID'].isin(bg_to_walkable_bg[centre_block])]\n",
    "\n",
    "# get bg centroids within 5km\n",
    "ind_center=list(bg['GEOID']).index(centre_block)\n",
    "ind_within_1200m=np.where(straight_dist_mat[ind_center, :]<1200)[0]\n",
    "ind_within_5km=np.where(straight_dist_mat[ind_center, :]<5000)[0]"
   ]
  },
  {
   "cell_type": "code",
   "execution_count": null,
   "metadata": {},
   "outputs": [],
   "source": [
    "import folium\n",
    "%matplotlib inline\n",
    "\n",
    "center_centroid=bg_shp_center.geometry.centroid\n",
    "\n",
    "m = folium.Map([bg_shp_center.geometry.centroid.iloc[0].y, bg_shp_center.geometry.centroid.iloc[0].x], zoom_start=10, tiles='cartodbpositron')\n",
    "folium.GeoJson(bg_shp_center, style_function=lambda feature: {'color': 'red','fillColor': 'red'}).add_to(m)\n",
    "folium.GeoJson(bg_shp_reachable, style_function=lambda feature: {'color': 'blue','fillColor': 'blue'}).add_to(m)\n",
    "\n",
    "for i_c in ind_within_5km:\n",
    "    folium.Circle(\n",
    "    radius=5,\n",
    "    location=[centroids[i_c][1], centroids[i_c][0]],\n",
    "    fill=False,\n",
    "    color='black'\n",
    "    ).add_to(m)\n",
    "m\n",
    "\n",
    "for i_c in ind_within_1200m:\n",
    "    folium.Circle(\n",
    "    radius=20,\n",
    "    location=[centroids[i_c][1], centroids[i_c][0]],\n",
    "    fill=False,\n",
    "    color='yellow'\n",
    "    ).add_to(m)\n",
    "m"
   ]
  },
  {
   "cell_type": "code",
   "execution_count": null,
   "metadata": {
    "collapsed": true
   },
   "outputs": [],
   "source": [
    "m = folium.Map([bg_shp_center.geometry.centroid.iloc[0].y, bg_shp_center.geometry.centroid.iloc[0].x], zoom_start=10, tiles='cartodbpositron')\n",
    "folium.GeoJson(bg_shp_reachable).add_to(m)\n",
    "m"
   ]
  },
  {
   "cell_type": "code",
   "execution_count": null,
   "metadata": {
    "collapsed": true
   },
   "outputs": [],
   "source": []
  }
 ],
 "metadata": {
  "anaconda-cloud": {},
  "kernelspec": {
   "display_name": "Python 3",
   "language": "python",
   "name": "python3"
  },
  "language_info": {
   "codemirror_mode": {
    "name": "ipython",
    "version": 3
   },
   "file_extension": ".py",
   "mimetype": "text/x-python",
   "name": "python",
   "nbconvert_exporter": "python",
   "pygments_lexer": "ipython3",
   "version": "3.8.2"
  }
 },
 "nbformat": 4,
 "nbformat_minor": 2
}
