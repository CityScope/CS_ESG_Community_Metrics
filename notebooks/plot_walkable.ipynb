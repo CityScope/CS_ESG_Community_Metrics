{
 "cells": [
  {
   "cell_type": "code",
   "execution_count": 39,
   "metadata": {
    "collapsed": true
   },
   "outputs": [],
   "source": [
    "import math\n",
    "import geopandas as gpd\n",
    "# import osmnx as ox\n",
    "import numpy as np\n",
    "import urllib.request\n",
    "from time import sleep\n",
    "import json\n",
    "import pyproj\n",
    "import matplotlib.pyplot as plt"
   ]
  },
  {
   "cell_type": "code",
   "execution_count": 40,
   "metadata": {
    "collapsed": true
   },
   "outputs": [],
   "source": [
    "year=2017\n",
    "state_fips='25'\n",
    "bg=gpd.read_file('https://www2.census.gov/geo/tiger/TIGER{}/BG/tl_{}_{}_bg.zip'.format(year, year, state_fips))"
   ]
  },
  {
   "cell_type": "code",
   "execution_count": 41,
   "metadata": {
    "collapsed": true
   },
   "outputs": [],
   "source": [
    "bg_to_walkable_bg=json.load(open('../outputs/walkable_bg/bg_to_walkable_bg_osrm_{}.json'.format(state_fips)))"
   ]
  },
  {
   "cell_type": "code",
   "execution_count": 54,
   "metadata": {},
   "outputs": [
    {
     "name": "stdout",
     "output_type": "stream",
     "text": [
      "['250250201014', '250250201013', '250250201011', '250250202003', '250250203021', '250250703001', '250250703002', '250250202002', '250250201012', '250250107022', '250250203012', '250250108023', '250250108012', '250250108011', '250250202001', '250250107021', '250250107023', '250250108013', '250250203011', '250259817001']\n"
     ]
    }
   ],
   "source": [
    "import random\n",
    "centre_block=random.choice([bg for bg in bg_to_walkable_bg])\n",
    "# centre_block='250259901010'\n",
    "print(bg_to_walkable_bg[centre_block])\n",
    "bg_shp_center=bg.loc[bg['GEOID']==centre_block]\n",
    "bg_shp_reachable=bg.loc[bg['GEOID'].isin(bg_to_walkable_bg[centre_block])]\n",
    "\n",
    "# get bg centroids within 5km\n",
    "ind_center=list(bg['GEOID']).index(centre_block)"
   ]
  },
  {
   "cell_type": "code",
   "execution_count": 55,
   "metadata": {},
   "outputs": [
    {
     "name": "stderr",
     "output_type": "stream",
     "text": [
      "<ipython-input-55-cd3a425f5fec>:4: UserWarning: Geometry is in a geographic CRS. Results from 'centroid' are likely incorrect. Use 'GeoSeries.to_crs()' to re-project geometries to a projected CRS before this operation.\n",
      "\n",
      "  center_centroid=bg_shp_center.geometry.centroid\n",
      "<ipython-input-55-cd3a425f5fec>:6: UserWarning: Geometry is in a geographic CRS. Results from 'centroid' are likely incorrect. Use 'GeoSeries.to_crs()' to re-project geometries to a projected CRS before this operation.\n",
      "\n",
      "  m = folium.Map([bg_shp_center.geometry.centroid.iloc[0].y, bg_shp_center.geometry.centroid.iloc[0].x], zoom_start=10, tiles='cartodbpositron')\n"
     ]
    }
   ],
   "source": [
    "import folium\n",
    "%matplotlib inline\n",
    "\n",
    "center_centroid=bg_shp_center.geometry.centroid\n",
    "\n",
    "m = folium.Map([bg_shp_center.geometry.centroid.iloc[0].y, bg_shp_center.geometry.centroid.iloc[0].x], zoom_start=10, tiles='cartodbpositron')\n",
    "folium.GeoJson(bg_shp_center, style_function=lambda feature: {'color': 'red','fillColor': 'red'}).add_to(m)\n",
    "folium.GeoJson(bg_shp_reachable, style_function=lambda feature: {'color': 'blue','fillColor': 'blue'}).add_to(m)\n",
    "m.save('index.html')"
   ]
  },
  {
   "cell_type": "code",
   "execution_count": null,
   "metadata": {
    "collapsed": true
   },
   "outputs": [],
   "source": []
  }
 ],
 "metadata": {
  "anaconda-cloud": {},
  "kernelspec": {
   "display_name": "Python [conda env:shapely]",
   "language": "python",
   "name": "conda-env-shapely-py"
  },
  "language_info": {
   "codemirror_mode": {
    "name": "ipython",
    "version": 3
   },
   "file_extension": ".py",
   "mimetype": "text/x-python",
   "name": "python",
   "nbconvert_exporter": "python",
   "pygments_lexer": "ipython3",
   "version": "3.8.2"
  }
 },
 "nbformat": 4,
 "nbformat_minor": 2
}
