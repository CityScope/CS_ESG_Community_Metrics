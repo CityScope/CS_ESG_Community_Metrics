{
 "cells": [
  {
   "cell_type": "code",
   "execution_count": 1,
   "id": "genuine-curve",
   "metadata": {},
   "outputs": [],
   "source": [
    "import geopandas as gpd\n",
    "from keplergl import KeplerGl\n",
    "import json"
   ]
  },
  {
   "cell_type": "code",
   "execution_count": 2,
   "id": "powerful-fields",
   "metadata": {},
   "outputs": [],
   "source": [
    "from OpenCity import OpenCity"
   ]
  },
  {
   "cell_type": "code",
   "execution_count": 3,
   "id": "geological-sleep",
   "metadata": {},
   "outputs": [],
   "source": [
    "state_fips='25'\n",
    "year=2018\n",
    "state=OpenCity.US_State(state_fips=state_fips, year=year)"
   ]
  },
  {
   "cell_type": "code",
   "execution_count": 4,
   "id": "traditional-grove",
   "metadata": {},
   "outputs": [
    {
     "name": "stdout",
     "output_type": "stream",
     "text": [
      "Getting geometry (block_group) for state: Massachusetts\n"
     ]
    },
    {
     "name": "stderr",
     "output_type": "stream",
     "text": [
      "/home/doorleyr/CS_ESG_Community_Metrics/notebooks/OpenCity/OpenCity.py:72: UserWarning: Geometry is in a geographic CRS. Results from 'centroid' are likely incorrect. Use 'GeoSeries.to_crs()' to re-project geometries to a projected CRS before this operation.\n",
      "\n",
      "  centroids=self.geom['geometry'].centroid\n"
     ]
    }
   ],
   "source": [
    "try:\n",
    "    bg=gpd.read_file('zip://../data/shape/cb_2019_{}_bg_500k.zip'.format(state_fips))\n",
    "    bg=bg.set_index('GEOID10')\n",
    "except:\n",
    "    state.get_geometry()\n",
    "    bg=state.return_geometry()\n",
    "bg = bg.to_crs(\"EPSG:4326\")"
   ]
  },
  {
   "cell_type": "code",
   "execution_count": 5,
   "id": "wrong-desperate",
   "metadata": {},
   "outputs": [
    {
     "name": "stdout",
     "output_type": "stream",
     "text": [
      "Getting WAC data from https://lehd.ces.census.gov/data/lodes/LODES7/\n",
      "\t Formatting WAC data\n",
      "Getting RAC data from https://lehd.ces.census.gov/data/lodes/LODES7/\n",
      "\t Formatting RAC data\n"
     ]
    }
   ],
   "source": [
    "try:\n",
    "    rac=pd.read_csv('../data/lodes/rac_{}_{}'.format(state_fips, year))\n",
    "    rac['h_geoid']=rac.apply(lambda row: str(row['h_geoid']).zfill(12), axis=1)\n",
    "    rac=rac.set_index('h_geoid')\n",
    "    \n",
    "    wac=pd.read_csv('../data/lodes/wac_{}_{}'.format(state_fips, year))\n",
    "    wac['w_geoid']=wac.apply(lambda row: str(row['w_geoid']).zfill(12), axis=1)\n",
    "    wac=wac.set_index('w_geoid')\n",
    "except:\n",
    "    state.get_lodes_data(include=['rac', 'wac'])\n",
    "    rac=state.rac\n",
    "    wac=state.wac\n",
    "    wac.to_csv('../data/lodes/wac_{}_{}'.format(state_fips, year))\n",
    "    rac.to_csv('../data/lodes/rac_{}_{}'.format(state_fips, year))"
   ]
  },
  {
   "cell_type": "code",
   "execution_count": 6,
   "id": "devoted-venezuela",
   "metadata": {},
   "outputs": [
    {
     "name": "stdout",
     "output_type": "stream",
     "text": [
      "Getting OD data from https://lehd.ces.census.gov/data/lodes/LODES7/\n",
      "\t Formatting OD data\n"
     ]
    }
   ],
   "source": [
    "try:\n",
    "    od=pd.read_csv('../data/lodes/od_{}_{}'.format(state_fips, year))\n",
    "    od['h_geoid']=od.apply(lambda row: str(row['h_geoid']).zfill(12), axis=1)\n",
    "    od['w_geoid']=od.apply(lambda row: str(row['w_geoid']).zfill(12), axis=1)\n",
    "    od=od.set_index(['h_geoid', 'w_geoid'])\n",
    "except:\n",
    "    state.get_lodes_data(include=['od'])\n",
    "    od=state.od\n",
    "    od.to_csv('../data/lodes/od_{}_{}'.format(state_fips, year))"
   ]
  },
  {
   "cell_type": "code",
   "execution_count": 7,
   "id": "polyphonic-jerusalem",
   "metadata": {},
   "outputs": [],
   "source": [
    "bg_to_walkable_bg=json.load(open('../outputs/{}/bg_to_walkable_bg_osrm_{}.json'.format(\n",
    "    state_fips, state_fips)))"
   ]
  },
  {
   "cell_type": "code",
   "execution_count": 20,
   "id": "protected-topic",
   "metadata": {},
   "outputs": [],
   "source": [
    "# bg_to_walkable_bg.keys()"
   ]
  },
  {
   "cell_type": "markdown",
   "id": "functional-kelly",
   "metadata": {},
   "source": [
    "Analyze a walkable area in detail"
   ]
  },
  {
   "cell_type": "code",
   "execution_count": 9,
   "id": "legitimate-elder",
   "metadata": {},
   "outputs": [],
   "source": [
    "# focus_bg='060816119002'\n",
    "focus_bg='250277304011'"
   ]
  },
  {
   "cell_type": "code",
   "execution_count": 10,
   "id": "offensive-complex",
   "metadata": {},
   "outputs": [
    {
     "data": {
      "text/html": [
       "<div>\n",
       "<style scoped>\n",
       "    .dataframe tbody tr th:only-of-type {\n",
       "        vertical-align: middle;\n",
       "    }\n",
       "\n",
       "    .dataframe tbody tr th {\n",
       "        vertical-align: top;\n",
       "    }\n",
       "\n",
       "    .dataframe thead th {\n",
       "        text-align: right;\n",
       "    }\n",
       "</style>\n",
       "<table border=\"1\" class=\"dataframe\">\n",
       "  <thead>\n",
       "    <tr style=\"text-align: right;\">\n",
       "      <th></th>\n",
       "      <th>STATEFP</th>\n",
       "      <th>COUNTYFP</th>\n",
       "      <th>TRACTCE</th>\n",
       "      <th>BLKGRPCE</th>\n",
       "      <th>NAMELSAD</th>\n",
       "      <th>MTFCC</th>\n",
       "      <th>FUNCSTAT</th>\n",
       "      <th>ALAND</th>\n",
       "      <th>AWATER</th>\n",
       "      <th>INTPTLAT</th>\n",
       "      <th>INTPTLON</th>\n",
       "      <th>geometry</th>\n",
       "      <th>x_centroid</th>\n",
       "      <th>y_centroid</th>\n",
       "    </tr>\n",
       "    <tr>\n",
       "      <th>GEOID</th>\n",
       "      <th></th>\n",
       "      <th></th>\n",
       "      <th></th>\n",
       "      <th></th>\n",
       "      <th></th>\n",
       "      <th></th>\n",
       "      <th></th>\n",
       "      <th></th>\n",
       "      <th></th>\n",
       "      <th></th>\n",
       "      <th></th>\n",
       "      <th></th>\n",
       "      <th></th>\n",
       "      <th></th>\n",
       "    </tr>\n",
       "  </thead>\n",
       "  <tbody>\n",
       "    <tr>\n",
       "      <th>250277304011</th>\n",
       "      <td>25</td>\n",
       "      <td>027</td>\n",
       "      <td>730401</td>\n",
       "      <td>1</td>\n",
       "      <td>Block Group 1</td>\n",
       "      <td>G5030</td>\n",
       "      <td>S</td>\n",
       "      <td>360020</td>\n",
       "      <td>0</td>\n",
       "      <td>+42.3030995</td>\n",
       "      <td>-071.7835260</td>\n",
       "      <td>POLYGON ((-71.78563 42.30372, -71.78547 42.303...</td>\n",
       "      <td>-71.781259</td>\n",
       "      <td>42.300436</td>\n",
       "    </tr>\n",
       "    <tr>\n",
       "      <th>250277302004</th>\n",
       "      <td>25</td>\n",
       "      <td>027</td>\n",
       "      <td>730200</td>\n",
       "      <td>4</td>\n",
       "      <td>Block Group 4</td>\n",
       "      <td>G5030</td>\n",
       "      <td>S</td>\n",
       "      <td>312835</td>\n",
       "      <td>0</td>\n",
       "      <td>+42.3036924</td>\n",
       "      <td>-071.7870075</td>\n",
       "      <td>POLYGON ((-71.78959 42.30367, -71.78956 42.304...</td>\n",
       "      <td>-71.787007</td>\n",
       "      <td>42.303692</td>\n",
       "    </tr>\n",
       "  </tbody>\n",
       "</table>\n",
       "</div>"
      ],
      "text/plain": [
       "             STATEFP COUNTYFP TRACTCE BLKGRPCE       NAMELSAD  MTFCC FUNCSTAT  \\\n",
       "GEOID                                                                           \n",
       "250277304011      25      027  730401        1  Block Group 1  G5030        S   \n",
       "250277302004      25      027  730200        4  Block Group 4  G5030        S   \n",
       "\n",
       "               ALAND  AWATER     INTPTLAT      INTPTLON  \\\n",
       "GEOID                                                     \n",
       "250277304011  360020       0  +42.3030995  -071.7835260   \n",
       "250277302004  312835       0  +42.3036924  -071.7870075   \n",
       "\n",
       "                                                       geometry  x_centroid  \\\n",
       "GEOID                                                                         \n",
       "250277304011  POLYGON ((-71.78563 42.30372, -71.78547 42.303...  -71.781259   \n",
       "250277302004  POLYGON ((-71.78959 42.30367, -71.78956 42.304...  -71.787007   \n",
       "\n",
       "              y_centroid  \n",
       "GEOID                     \n",
       "250277304011   42.300436  \n",
       "250277302004   42.303692  "
      ]
     },
     "execution_count": 10,
     "metadata": {},
     "output_type": "execute_result"
    }
   ],
   "source": [
    "walkable=bg_to_walkable_bg[focus_bg]\n",
    "walkable_bgs=bg.loc[walkable]\n",
    "walkable_bgs.head()"
   ]
  },
  {
   "cell_type": "markdown",
   "id": "occupational-framework",
   "metadata": {},
   "source": [
    "Build simulation with daytime pop of walkable area"
   ]
  },
  {
   "cell_type": "code",
   "execution_count": 23,
   "id": "czech-cancellation",
   "metadata": {},
   "outputs": [
    {
     "name": "stdout",
     "output_type": "stream",
     "text": [
      "(-71.78960000000001, 42.292032999999996, -71.776958, 42.308105)\n",
      "[42.30043631099677 -71.78125948237047]\n"
     ]
    },
    {
     "data": {
      "image/svg+xml": [
       "<svg xmlns=\"http://www.w3.org/2000/svg\" xmlns:xlink=\"http://www.w3.org/1999/xlink\" width=\"100.0\" height=\"100.0\" viewBox=\"-71.79024288000001 42.291390119999996 0.01392776000001561 0.017357760000002997\" preserveAspectRatio=\"xMinYMin meet\"><g transform=\"matrix(1,0,0,-1,0,84.60013799999999)\"><path fill-rule=\"evenodd\" fill=\"#66cc99\" stroke=\"#555555\" stroke-width=\"0.00034715520000005995\" opacity=\"0.6\" d=\"M -71.783552,42.304804 L -71.782743,42.305133 L -71.781927,42.30546 L -71.781091,42.305807 L -71.780312,42.306121999999995 L -71.77949199999999,42.306446 L -71.778961,42.306672 L -71.778663,42.306788 L -71.77828699999999,42.306273 L -71.777844,42.305696999999995 L -71.776958,42.304497999999995 L -71.777283,42.304365 L -71.777802,42.304162 L -71.778609,42.303826 L -71.778948,42.303698999999995 L -71.779423,42.303504 L -71.780249,42.303174999999996 L -71.78090499999999,42.302915999999996 L -71.780991,42.302890999999995 L -71.781042,42.302898 L -71.78108499999999,42.30294 L -71.781133,42.303018 L -71.78124799999999,42.303176 L -71.781454,42.303397 L -71.78148399999999,42.303433999999996 L -71.781885,42.303294 L -71.781999,42.303245 L -71.782111,42.303207 L -71.78219299999999,42.303183999999995 L -71.782304,42.303163999999995 L -71.78245,42.303143999999996 L -71.783538,42.302942 L -71.783935,42.302827 L -71.783982,42.302797 L -71.78398899999999,42.302783 L -71.78400599999999,42.302749 L -71.78399,42.302662999999995 L -71.783979,42.302637 L -71.783847,42.302440999999995 L -71.783759,42.302275 L -71.78362299999999,42.302011 L -71.78343699999999,42.301791 L -71.783244,42.301499 L -71.78305999999999,42.30121 L -71.782951,42.301048 L -71.78273,42.300574999999995 L -71.782653,42.300337 L -71.78255899999999,42.300049 L -71.78231199999999,42.299375999999995 L -71.78140599999999,42.299555 L -71.78078599999999,42.297826 L -71.779969,42.297252 L -71.779992,42.296943999999996 L -71.780053,42.296392 L -71.779996,42.296396 L -71.779769,42.296378 L -71.779639,42.296352999999996 L -71.779494,42.296306 L -71.77935599999999,42.296254999999995 L -71.77919399999999,42.296174 L -71.779213,42.29614 L -71.77928399999999,42.295936 L -71.779354,42.295767 L -71.779392,42.295646 L -71.77942399999999,42.295564999999996 L -71.779456,42.295446 L -71.779459,42.295370999999996 L -71.77944099999999,42.295294 L -71.779404,42.295217 L -71.779344,42.295148999999995 L -71.77927,42.295089999999995 L -71.779207,42.295068 L -71.779099,42.295047 L -71.779006,42.295047 L -71.778945,42.295058999999995 L -71.778807,42.295106 L -71.778663,42.295139 L -71.77851,42.295139 L -71.77846199999999,42.295123 L -71.778431,42.295105 L -71.778397,42.29508 L -71.778357,42.295024999999995 L -71.778274,42.294847 L -71.778269,42.294779999999996 L -71.77828,42.294599 L -71.77848999999999,42.294064999999996 L -71.77860199999999,42.293827 L -71.778644,42.293707999999995 L -71.778674,42.293517 L -71.778672,42.293372999999995 L -71.778663,42.293330999999995 L -71.77864199999999,42.29324 L -71.778554,42.292929 L -71.778509,42.292874999999995 L -71.77901899999999,42.292638 L -71.779185,42.292561 L -71.779517,42.292409 L -71.779996,42.29219 L -71.780087,42.292148999999995 L -71.78042599999999,42.292032999999996 L -71.780419,42.292075 L -71.78068,42.292842 L -71.78077499999999,42.293119 L -71.78107,42.293976 L -71.78124199999999,42.294455 L -71.781538,42.295224 L -71.781815,42.296033 L -71.78184999999999,42.296133999999995 L -71.782136,42.296834 L -71.782562,42.297457 L -71.783259,42.298497 L -71.783682,42.299116 L -71.783802,42.299291 L -71.784071,42.299752999999995 L -71.78419199999999,42.300049 L -71.784427,42.3004 L -71.784466,42.300447 L -71.784764,42.300317 L -71.78486099999999,42.300275 L -71.78553,42.300213 L -71.78629699999999,42.300157 L -71.786861,42.300107 L -71.787108,42.300089 L -71.78781699999999,42.300036999999996 L -71.788175,42.300000999999995 L -71.788883,42.299943 L -71.789475,42.299887 L -71.789406,42.300388 L -71.78939299999999,42.300523 L -71.789389,42.300657 L -71.789431,42.300965999999995 L -71.789433,42.301065 L -71.78953299999999,42.301964 L -71.789558,42.30229 L -71.78957799999999,42.302566999999996 L -71.789588,42.302986999999995 L -71.78960000000001,42.303622999999995 L -71.78959499999999,42.303674 L -71.789564,42.304027 L -71.789519,42.304355 L -71.78949399999999,42.304513 L -71.7894,42.305039 L -71.789277,42.305727999999995 L -71.78917299999999,42.306346999999995 L -71.789019,42.306456999999995 L -71.788178,42.306974 L -71.787926,42.307103999999995 L -71.787172,42.307494999999996 L -71.786006,42.308105 L -71.784616,42.306233999999996 L -71.784084,42.305512 L -71.783552,42.304804 z\" /></g></svg>"
      ],
      "text/plain": [
       "<shapely.geometry.polygon.Polygon at 0x7f911b53cb80>"
      ]
     },
     "execution_count": 23,
     "metadata": {},
     "output_type": "execute_result"
    }
   ],
   "source": [
    "outline=walkable_bgs.unary_union\n",
    "bounds_all=outline.bounds\n",
    "print(bounds_all)\n",
    "centre_lat_lon=bg.loc[focus_bg, ['y_centroid', 'x_centroid']].values\n",
    "print(centre_lat_lon)\n",
    "outline"
   ]
  },
  {
   "cell_type": "code",
   "execution_count": 25,
   "id": "specialized-lotus",
   "metadata": {},
   "outputs": [],
   "source": [
    "G=osmnx.graph.graph_from_point(centre_lat_lon, dist=1200, dist_type='bbox', network_type='all_private')"
   ]
  },
  {
   "cell_type": "code",
   "execution_count": 13,
   "id": "immune-north",
   "metadata": {},
   "outputs": [],
   "source": [
    "# buildings=osmnx.geometries.geometries_from_polygon(outline, tags = {\n",
    "#     'building':True\n",
    "# })"
   ]
  },
  {
   "cell_type": "code",
   "execution_count": 16,
   "id": "structural-determination",
   "metadata": {},
   "outputs": [
    {
     "name": "stdout",
     "output_type": "stream",
     "text": [
      "User Guide: https://docs.kepler.gl/docs/keplergl-jupyter\n"
     ]
    },
    {
     "data": {
      "application/vnd.jupyter.widget-view+json": {
       "model_id": "4233ae0790504fe7908f6716c7ac9dea",
       "version_major": 2,
       "version_minor": 0
      },
      "text/plain": [
       "KeplerGl(data={'blds':          unique_id      osmid element_type  \\\n",
       "0    way/214172359  214172359          wa…"
      ]
     },
     "metadata": {},
     "output_type": "display_data"
    }
   ],
   "source": [
    "map_blds = KeplerGl(height=400, data={\"blds\": buildings})\n",
    "map_blds"
   ]
  },
  {
   "cell_type": "code",
   "execution_count": 19,
   "id": "limited-bonus",
   "metadata": {},
   "outputs": [
    {
     "data": {
      "text/plain": [
       "{'version': 'v1',\n",
       " 'config': {'visState': {'filters': [{'dataId': ['blds'],\n",
       "     'id': '6efv52t8h',\n",
       "     'name': ['element_type'],\n",
       "     'type': 'multiSelect',\n",
       "     'value': ['way'],\n",
       "     'enlarged': False,\n",
       "     'plotType': 'histogram',\n",
       "     'animationWindow': 'free',\n",
       "     'yAxis': None}],\n",
       "   'layers': [{'id': 'mfg6o1',\n",
       "     'type': 'geojson',\n",
       "     'config': {'dataId': 'blds',\n",
       "      'label': 'blds',\n",
       "      'color': [30, 150, 190],\n",
       "      'columns': {'geojson': 'geometry'},\n",
       "      'isVisible': True,\n",
       "      'visConfig': {'opacity': 0.8,\n",
       "       'strokeOpacity': 0.8,\n",
       "       'thickness': 0.5,\n",
       "       'strokeColor': [137, 218, 193],\n",
       "       'colorRange': {'name': 'Global Warming',\n",
       "        'type': 'sequential',\n",
       "        'category': 'Uber',\n",
       "        'colors': ['#5A1846',\n",
       "         '#900C3F',\n",
       "         '#C70039',\n",
       "         '#E3611C',\n",
       "         '#F1920E',\n",
       "         '#FFC300']},\n",
       "       'strokeColorRange': {'name': 'Global Warming',\n",
       "        'type': 'sequential',\n",
       "        'category': 'Uber',\n",
       "        'colors': ['#5A1846',\n",
       "         '#900C3F',\n",
       "         '#C70039',\n",
       "         '#E3611C',\n",
       "         '#F1920E',\n",
       "         '#FFC300']},\n",
       "       'radius': 10,\n",
       "       'sizeRange': [0, 10],\n",
       "       'radiusRange': [0, 50],\n",
       "       'heightRange': [0, 500],\n",
       "       'elevationScale': 5,\n",
       "       'stroked': True,\n",
       "       'filled': True,\n",
       "       'enable3d': False,\n",
       "       'wireframe': False},\n",
       "      'hidden': False,\n",
       "      'textLabel': [{'field': None,\n",
       "        'color': [255, 255, 255],\n",
       "        'size': 18,\n",
       "        'offset': [0, 0],\n",
       "        'anchor': 'start',\n",
       "        'alignment': 'center'}]},\n",
       "     'visualChannels': {'colorField': None,\n",
       "      'colorScale': 'quantile',\n",
       "      'sizeField': None,\n",
       "      'sizeScale': 'linear',\n",
       "      'strokeColorField': None,\n",
       "      'strokeColorScale': 'quantile',\n",
       "      'heightField': None,\n",
       "      'heightScale': 'linear',\n",
       "      'radiusField': None,\n",
       "      'radiusScale': 'linear'}}],\n",
       "   'interactionConfig': {'tooltip': {'fieldsToShow': {'blds': [{'name': 'unique_id',\n",
       "        'format': None},\n",
       "       {'name': 'osmid', 'format': None},\n",
       "       {'name': 'element_type', 'format': None},\n",
       "       {'name': 'addr:housenumber', 'format': None},\n",
       "       {'name': 'addr:street', 'format': None}]},\n",
       "     'compareMode': False,\n",
       "     'compareType': 'absolute',\n",
       "     'enabled': True},\n",
       "    'brush': {'size': 0.5, 'enabled': False},\n",
       "    'geocoder': {'enabled': False},\n",
       "    'coordinate': {'enabled': False}},\n",
       "   'layerBlending': 'normal',\n",
       "   'splitMaps': [],\n",
       "   'animationConfig': {'currentTime': None, 'speed': 1}},\n",
       "  'mapState': {'bearing': 0,\n",
       "   'dragRotate': False,\n",
       "   'latitude': 42.3001413,\n",
       "   'longitude': -71.78331855,\n",
       "   'pitch': 0,\n",
       "   'zoom': 14,\n",
       "   'isSplit': False},\n",
       "  'mapStyle': {'styleType': 'dark',\n",
       "   'topLayerGroups': {},\n",
       "   'visibleLayerGroups': {'label': True,\n",
       "    'road': True,\n",
       "    'border': False,\n",
       "    'building': True,\n",
       "    'water': True,\n",
       "    'land': True,\n",
       "    '3d building': False},\n",
       "   'threeDBuildingColor': [9.665468314072013,\n",
       "    17.18305478057247,\n",
       "    31.1442867897876],\n",
       "   'mapStyles': {}}}}"
      ]
     },
     "execution_count": 19,
     "metadata": {},
     "output_type": "execute_result"
    }
   ],
   "source": [
    "map_blds.config"
   ]
  },
  {
   "cell_type": "code",
   "execution_count": null,
   "id": "stuck-wichita",
   "metadata": {},
   "outputs": [],
   "source": []
  }
 ],
 "metadata": {
  "kernelspec": {
   "display_name": "Python 3",
   "language": "python",
   "name": "python3"
  },
  "language_info": {
   "codemirror_mode": {
    "name": "ipython",
    "version": 3
   },
   "file_extension": ".py",
   "mimetype": "text/x-python",
   "name": "python",
   "nbconvert_exporter": "python",
   "pygments_lexer": "ipython3",
   "version": "3.9.0"
  }
 },
 "nbformat": 4,
 "nbformat_minor": 5
}
