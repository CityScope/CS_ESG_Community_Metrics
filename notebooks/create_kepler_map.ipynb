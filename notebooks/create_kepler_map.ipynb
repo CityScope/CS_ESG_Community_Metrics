{
 "cells": [
  {
   "cell_type": "code",
   "execution_count": 1,
   "metadata": {
    "collapsed": true
   },
   "outputs": [],
   "source": [
    "from keplergl import KeplerGl"
   ]
  },
  {
   "cell_type": "code",
   "execution_count": 2,
   "metadata": {},
   "outputs": [],
   "source": [
    "import geopandas as gpd\n",
    "import json"
   ]
  },
  {
   "cell_type": "code",
   "execution_count": 3,
   "metadata": {
    "collapsed": true
   },
   "outputs": [],
   "source": [
    "config_loc='../outputs/config.json'"
   ]
  },
  {
   "cell_type": "code",
   "execution_count": 4,
   "metadata": {
    "collapsed": true
   },
   "outputs": [],
   "source": [
    "state_fips='06'"
   ]
  },
  {
   "cell_type": "code",
   "execution_count": 5,
   "metadata": {},
   "outputs": [],
   "source": [
    "bg=gpd.read_file('../outputs/{}/metrics_urbanized_{}.geojson'.format(state_fips, state_fips))\n",
    "bg=bg.rename(columns={col: col.replace('_', ' ').title() for col in bg.columns if not col in ['geometry', 'GEOID']})"
   ]
  },
  {
   "cell_type": "code",
   "execution_count": 6,
   "metadata": {
    "collapsed": true
   },
   "outputs": [],
   "source": [
    "configs=json.load(open(config_loc))"
   ]
  },
  {
   "cell_type": "code",
   "execution_count": 7,
   "metadata": {},
   "outputs": [
    {
     "name": "stdout",
     "output_type": "stream",
     "text": [
      "User Guide: https://docs.kepler.gl/docs/keplergl-jupyter\n"
     ]
    },
    {
     "name": "stderr",
     "output_type": "stream",
     "text": [
      "IOPub data rate exceeded.\n",
      "The notebook server will temporarily stop sending output\n",
      "to the client in order to avoid crashing it.\n",
      "To change this limit, set the config variable\n",
      "`--NotebookApp.iopub_data_rate_limit`.\n"
     ]
    },
    {
     "name": "stdout",
     "output_type": "stream",
     "text": [
      "Map saved to ../outputs/06/kepler_j_s.html!\n"
     ]
    }
   ],
   "source": [
    "map_1 = KeplerGl()\n",
    "map_1.add_data(data=bg, name='Block Groups')\n",
    "map_1.config = configs\n",
    "map_1.save_to_html(file_name='../outputs/{}/kepler_j_s.html'.format(state_fips))"
   ]
  },
  {
   "cell_type": "code",
   "execution_count": 8,
   "metadata": {},
   "outputs": [
    {
     "name": "stdout",
     "output_type": "stream",
     "text": [
      "Map saved to ../index.html!\n"
     ]
    }
   ],
   "source": [
    "map_1.save_to_html(file_name='../index.html')"
   ]
  },
  {
   "cell_type": "code",
   "execution_count": null,
   "metadata": {
    "collapsed": true
   },
   "outputs": [],
   "source": []
  },
  {
   "cell_type": "code",
   "execution_count": 9,
   "metadata": {
    "collapsed": true
   },
   "outputs": [],
   "source": [
    "configs={\n",
    "  \"version\": \"v1\",\n",
    "  \"config\": {\n",
    "    \"visState\": {\n",
    "      \"filters\": [],\n",
    "      \"layers\": [\n",
    "        {\n",
    "          \"id\": \"c7aetgj\",\n",
    "          \"type\": \"geojson\",\n",
    "          \"config\": {\n",
    "            \"dataId\": \"Block Groups\",\n",
    "            \"label\": \"Block Groups\",\n",
    "            \"color\": [\n",
    "              18,\n",
    "              147,\n",
    "              154\n",
    "            ],\n",
    "            \"columns\": {\n",
    "              \"geojson\": \"geometry\"\n",
    "            },\n",
    "            \"isVisible\": True,\n",
    "            \"visConfig\": {\n",
    "              \"opacity\": 0.2,\n",
    "              \"strokeOpacity\": 0.8,\n",
    "              \"thickness\": 0,\n",
    "              \"strokeColor\": [\n",
    "                255,\n",
    "                254,\n",
    "                230\n",
    "              ],\n",
    "              \"colorRange\": {\n",
    "                \"name\": \"ColorBrewer RdYlGn-10\",\n",
    "                \"type\": \"diverging\",\n",
    "                \"category\": \"ColorBrewer\",\n",
    "                \"colors\": [\n",
    "                  \"#a50026\",\n",
    "                  \"#d73027\",\n",
    "                  \"#f46d43\",\n",
    "                  \"#fdae61\",\n",
    "                  \"#fee08b\",\n",
    "                  \"#d9ef8b\",\n",
    "                  \"#a6d96a\",\n",
    "                  \"#66bd63\",\n",
    "                  \"#1a9850\",\n",
    "                  \"#006837\"\n",
    "                ]\n",
    "              },\n",
    "              \"strokeColorRange\": {\n",
    "                \"name\": \"Global Warming\",\n",
    "                \"type\": \"sequential\",\n",
    "                \"category\": \"Uber\",\n",
    "                \"colors\": [\n",
    "                  \"#5A1846\",\n",
    "                  \"#900C3F\",\n",
    "                  \"#C70039\",\n",
    "                  \"#E3611C\",\n",
    "                  \"#F1920E\",\n",
    "                  \"#FFC300\"\n",
    "                ]\n",
    "              },\n",
    "              \"radius\": 10,\n",
    "              \"sizeRange\": [\n",
    "                0,\n",
    "                10\n",
    "              ],\n",
    "              \"radiusRange\": [\n",
    "                0,\n",
    "                50\n",
    "              ],\n",
    "              \"heightRange\": [\n",
    "                0,\n",
    "                500\n",
    "              ],\n",
    "              \"elevationScale\": 5,\n",
    "              \"stroked\": True,\n",
    "              \"filled\": True,\n",
    "              \"enable3d\": False,\n",
    "              \"wireframe\": False\n",
    "            },\n",
    "            \"hidden\": False,\n",
    "            \"textLabel\": [\n",
    "              {\n",
    "                \"field\": None,\n",
    "                \"color\": [\n",
    "                  255,\n",
    "                  255,\n",
    "                  255\n",
    "                ],\n",
    "                \"size\": 18,\n",
    "                \"offset\": [\n",
    "                  0,\n",
    "                  0\n",
    "                ],\n",
    "                \"anchor\": \"start\",\n",
    "                \"alignment\": \"center\"\n",
    "              }\n",
    "            ]\n",
    "          },\n",
    "          \"visualChannels\": {\n",
    "            \"colorField\": {\n",
    "              \"name\": \"Res Density Pct\",\n",
    "              \"type\": \"real\"\n",
    "            },\n",
    "            \"colorScale\": \"quantile\",\n",
    "            \"sizeField\": None,\n",
    "            \"sizeScale\": \"linear\",\n",
    "            \"strokeColorField\": None,\n",
    "            \"strokeColorScale\": \"quantile\",\n",
    "            \"heightField\": None,\n",
    "            \"heightScale\": \"linear\",\n",
    "            \"radiusField\": None,\n",
    "            \"radiusScale\": \"linear\"\n",
    "          }\n",
    "        }\n",
    "      ],\n",
    "      \"interactionConfig\": {\n",
    "        \"tooltip\": {\n",
    "          \"fieldsToShow\": {\n",
    "            \"Block Groups\": [\n",
    "              {\n",
    "                \"name\": \"GEOID\",\n",
    "                \"format\": None\n",
    "              },\n",
    "              {\n",
    "                \"name\": \"Res Density Pct\",\n",
    "                \"format\": None\n",
    "              },\n",
    "              {\n",
    "                \"name\": \"Emp Density Pct\",\n",
    "                \"format\": None\n",
    "              },\n",
    "              {\n",
    "                \"name\": \"Jobs Access Pct\",\n",
    "                \"format\": None\n",
    "              },\n",
    "              {\n",
    "                \"name\": \"Hospitality Access Pct\",\n",
    "                \"format\": None\n",
    "              },\n",
    "              {\n",
    "                \"name\": \"Shopping Access Pct\",\n",
    "                \"format\": None\n",
    "              },\n",
    "              {\n",
    "                \"name\": \"Healthcare Access Pct\",\n",
    "                \"format\": None\n",
    "              },\n",
    "              {\n",
    "                \"name\": \"Education Diversity Pct\",\n",
    "                \"format\": None\n",
    "              },\n",
    "              {\n",
    "                \"name\": \"Income Diversity Pct\",\n",
    "                \"format\": None\n",
    "              },\n",
    "              {\n",
    "                \"name\": \"Industry Diversity Pct\",\n",
    "                \"format\": None\n",
    "              },\n",
    "              {\n",
    "                \"name\": \"Occupation Diversity Pct\",\n",
    "                \"format\": None\n",
    "              },\n",
    "              {\n",
    "                \"name\": \"Live Work Score Pct\",\n",
    "                \"format\": None\n",
    "              },\n",
    "              {\n",
    "                \"name\": \"Edu Harmony Pct\",\n",
    "                \"format\": None\n",
    "              },\n",
    "              {\n",
    "                \"name\": \"Income Harmony Pct\",\n",
    "                \"format\": None\n",
    "              },\n",
    "              {\n",
    "                \"name\": \"Housing Owned Pct\",\n",
    "                \"format\": None\n",
    "              },\n",
    "              {\n",
    "                \"name\": \"Labour Participation Pct\",\n",
    "                \"format\": None\n",
    "              },\n",
    "              {\n",
    "                \"name\": \"Employment Rate Pct\",\n",
    "                \"format\": None\n",
    "              }\n",
    "            ]\n",
    "          },\n",
    "          \"compareMode\": False,\n",
    "          \"compareType\": \"absolute\",\n",
    "          \"enabled\": True\n",
    "        },\n",
    "        \"brush\": {\n",
    "          \"size\": 0.5,\n",
    "          \"enabled\": False\n",
    "        },\n",
    "        \"geocoder\": {\n",
    "          \"enabled\": False\n",
    "        },\n",
    "        \"coordinate\": {\n",
    "          \"enabled\": False\n",
    "        }\n",
    "      },\n",
    "      \"layerBlending\": \"normal\",\n",
    "      \"splitMaps\": [],\n",
    "      \"animationConfig\": {\n",
    "        \"currentTime\": None,\n",
    "        \"speed\": 1\n",
    "      }\n",
    "    },\n",
    "    \"mapState\": {\n",
    "      \"bearing\": 0,\n",
    "      \"dragRotate\": False,\n",
    "      \"latitude\": 36.61635787113274,\n",
    "      \"longitude\": -120.13037403417306,\n",
    "      \"pitch\": 0,\n",
    "      \"zoom\": 6.012103047756785,\n",
    "      \"isSplit\": False\n",
    "    },\n",
    "    \"mapStyle\": {\n",
    "      \"styleType\": \"dark\",\n",
    "      \"topLayerGroups\": {},\n",
    "      \"visibleLayerGroups\": {\n",
    "        \"label\": False,\n",
    "        \"road\": True,\n",
    "        \"border\": False,\n",
    "        \"building\": True,\n",
    "        \"water\": True,\n",
    "        \"land\": True,\n",
    "        \"3d building\": False\n",
    "      },\n",
    "      \"threeDBuildingColor\": [\n",
    "        9.665468314072013,\n",
    "        17.18305478057247,\n",
    "        31.1442867897876\n",
    "      ],\n",
    "      \"mapStyles\": {}\n",
    "    }\n",
    "  }\n",
    "}\n",
    "json.dump(configs, open(config_loc, 'w'))"
   ]
  },
  {
   "cell_type": "code",
   "execution_count": null,
   "metadata": {
    "collapsed": true
   },
   "outputs": [],
   "source": []
  }
 ],
 "metadata": {
  "anaconda-cloud": {},
  "kernelspec": {
   "display_name": "Python [conda env:shapely]",
   "language": "python",
   "name": "conda-env-shapely-py"
  },
  "language_info": {
   "codemirror_mode": {
    "name": "ipython",
    "version": 3
   },
   "file_extension": ".py",
   "mimetype": "text/x-python",
   "name": "python",
   "nbconvert_exporter": "python",
   "pygments_lexer": "ipython3",
   "version": "3.8.2"
  }
 },
 "nbformat": 4,
 "nbformat_minor": 2
}
