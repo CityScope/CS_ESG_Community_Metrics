{
 "cells": [
  {
   "cell_type": "code",
   "execution_count": 14,
   "metadata": {},
   "outputs": [],
   "source": [
    "import geopandas as gpd\n",
    "import osmnx as ox\n",
    "import censusdata\n",
    "import json\n",
    "%matplotlib inline"
   ]
  },
  {
   "cell_type": "code",
   "execution_count": 2,
   "metadata": {},
   "outputs": [],
   "source": [
    "year=2017\n",
    "state_fips=25"
   ]
  },
  {
   "cell_type": "code",
   "execution_count": 3,
   "metadata": {},
   "outputs": [],
   "source": [
    "# bg=gpd.read_file('https://www2.census.gov/geo/tiger/TIGER{}/BG/tl_{}_{}_bg.zip'.format(year, year, state_fips))\n",
    "# Convert to WGS84\n",
    "# bg = bg.to_crs(\"EPSG:4326\")"
   ]
  },
  {
   "cell_type": "markdown",
   "metadata": {},
   "source": [
    "# Compute example metrics over walkable community"
   ]
  },
  {
   "cell_type": "markdown",
   "metadata": {},
   "source": [
    "### Load json file which maps BGs to walkable BGs"
   ]
  },
  {
   "cell_type": "code",
   "execution_count": 19,
   "metadata": {},
   "outputs": [],
   "source": [
    "bg_to_walkable_bg=json.load(open('bg_to_walkable_bg_osrm_{}.json'.format(state_fips)))"
   ]
  },
  {
   "cell_type": "markdown",
   "metadata": {},
   "source": [
    "### Get the LODES Data"
   ]
  },
  {
   "cell_type": "markdown",
   "metadata": {},
   "source": [
    "OD Files"
   ]
  },
  {
   "cell_type": "code",
   "execution_count": 20,
   "metadata": {},
   "outputs": [],
   "source": [
    "import urllib.request as ur\n",
    "from gzip import GzipFile\n",
    "import pandas as pd\n",
    "\n",
    "def get_od_data(state='ma'):\n",
    "    req = ur.Request('https://lehd.ces.census.gov/data/lodes/LODES7/{}/od/ma_od_main_JT00_2017.csv.gz'.format(state)) \n",
    "    z_f = ur.urlopen(req)\n",
    "    f = GzipFile(fileobj=z_f, mode=\"r\")\n",
    "    od = pd.read_csv(f)\n",
    "    return od\n",
    "\n",
    "def get_rac_data(state='ma'):\n",
    "    req = ur.Request('https://lehd.ces.census.gov/data/lodes/LODES7/{}/rac/ma_rac_S000_JT00_2017.csv.gz'.format(state)) \n",
    "    z_f = ur.urlopen(req)\n",
    "    f = GzipFile(fileobj=z_f, mode=\"r\")\n",
    "    rac = pd.read_csv(f)\n",
    "    return rac\n",
    "\n",
    "def get_wac_data(state='ma'):\n",
    "    req = ur.Request('https://lehd.ces.census.gov/data/lodes/LODES7/{}/wac/ma_wac_S000_JT00_2017.csv.gz'.format(state)) \n",
    "    z_f = ur.urlopen(req)\n",
    "    f = GzipFile(fileobj=z_f, mode=\"r\")\n",
    "    wac = pd.read_csv(f)\n",
    "    return wac"
   ]
  },
  {
   "cell_type": "code",
   "execution_count": 21,
   "metadata": {},
   "outputs": [],
   "source": [
    "# Origin-Destination (OD) File Structure\n",
    "# Pos Variable Type Explanation\n",
    "# 1 w_geocode Char15 Workplace Census Block Code\n",
    "# 2 h_geocode Char15 Residence Census Block Code\n",
    "# 3 S000 Num Total number of jobs\n",
    "# 4 SA01 Num Number of jobs of workers age 29 or younger16\n",
    "# 5 SA02 Num Number of jobs for workers age 30 to 5416\n",
    "# 6 SA03 Num Number of jobs for workers age 55 or older16\n",
    "# 7 SE01 Num Number of jobs with earnings $1250/month or less\n",
    "# 8 SE02 Num Number of jobs with earnings $1251/month to $3333/month\n",
    "# 9 SE03 Num Number of jobs with earnings greater than $3333/month\n",
    "# 10 SI01 Num Number of jobs in Goods Producing industry sectors\n",
    "# 11 SI02 Num Number of jobs in Trade, Transportation, and Utilities industry sectors\n",
    "# 12 SI03 Num Number of jobs in All Other Services industry sectors\n",
    "# 13 createdate Char Date on which data was created, formatted as YYYYMMDD "
   ]
  },
  {
   "cell_type": "code",
   "execution_count": 22,
   "metadata": {},
   "outputs": [],
   "source": [
    "od=get_od_data(state='ma')\n",
    "# block -> block group\n",
    "od['w_block_group']=od.apply(lambda row: str(row['w_geocode'])[0:12], axis=1)\n",
    "od['h_block_group']=od.apply(lambda row: str(row['h_geocode'])[0:12], axis=1)\n",
    "cols_to_sum=['S000', 'SA01', 'SA02', 'SA03', 'SE01','SE02', 'SE03', 'SI01', 'SI02', 'SI03']\n"
   ]
  },
  {
   "cell_type": "code",
   "execution_count": 23,
   "metadata": {},
   "outputs": [],
   "source": [
    "# For easy indexing save two copies of the OD matrix df\n",
    "od_by_hbg_wbg=od.groupby(['h_block_group', 'w_block_group'] , as_index=True)[cols_to_sum].agg('sum')\n",
    "od_by_wbg_hbg=od.groupby(['w_block_group', 'h_block_group'] , as_index=True)[cols_to_sum].agg('sum')\n",
    "# also repeat the work bg as a column for doing a secondary indexing (see below)\n",
    "od_by_hbg_wbg['w_block_group']=od_by_hbg_wbg.apply(lambda row: row.name[1], axis=1)"
   ]
  },
  {
   "cell_type": "code",
   "execution_count": 24,
   "metadata": {},
   "outputs": [
    {
     "data": {
      "text/html": [
       "<div>\n",
       "<style scoped>\n",
       "    .dataframe tbody tr th:only-of-type {\n",
       "        vertical-align: middle;\n",
       "    }\n",
       "\n",
       "    .dataframe tbody tr th {\n",
       "        vertical-align: top;\n",
       "    }\n",
       "\n",
       "    .dataframe thead th {\n",
       "        text-align: right;\n",
       "    }\n",
       "</style>\n",
       "<table border=\"1\" class=\"dataframe\">\n",
       "  <thead>\n",
       "    <tr style=\"text-align: right;\">\n",
       "      <th></th>\n",
       "      <th></th>\n",
       "      <th>S000</th>\n",
       "      <th>SA01</th>\n",
       "      <th>SA02</th>\n",
       "      <th>SA03</th>\n",
       "      <th>SE01</th>\n",
       "      <th>SE02</th>\n",
       "      <th>SE03</th>\n",
       "      <th>SI01</th>\n",
       "      <th>SI02</th>\n",
       "      <th>SI03</th>\n",
       "      <th>w_block_group</th>\n",
       "    </tr>\n",
       "    <tr>\n",
       "      <th>h_block_group</th>\n",
       "      <th>w_block_group</th>\n",
       "      <th></th>\n",
       "      <th></th>\n",
       "      <th></th>\n",
       "      <th></th>\n",
       "      <th></th>\n",
       "      <th></th>\n",
       "      <th></th>\n",
       "      <th></th>\n",
       "      <th></th>\n",
       "      <th></th>\n",
       "      <th></th>\n",
       "    </tr>\n",
       "  </thead>\n",
       "  <tbody>\n",
       "    <tr>\n",
       "      <th rowspan=\"5\" valign=\"top\">250010101001</th>\n",
       "      <th>250010101001</th>\n",
       "      <td>30</td>\n",
       "      <td>5</td>\n",
       "      <td>13</td>\n",
       "      <td>12</td>\n",
       "      <td>7</td>\n",
       "      <td>11</td>\n",
       "      <td>12</td>\n",
       "      <td>0</td>\n",
       "      <td>15</td>\n",
       "      <td>15</td>\n",
       "      <td>250010101001</td>\n",
       "    </tr>\n",
       "    <tr>\n",
       "      <th>250010101002</th>\n",
       "      <td>12</td>\n",
       "      <td>4</td>\n",
       "      <td>4</td>\n",
       "      <td>4</td>\n",
       "      <td>2</td>\n",
       "      <td>7</td>\n",
       "      <td>3</td>\n",
       "      <td>1</td>\n",
       "      <td>1</td>\n",
       "      <td>10</td>\n",
       "      <td>250010101002</td>\n",
       "    </tr>\n",
       "    <tr>\n",
       "      <th>250010101003</th>\n",
       "      <td>36</td>\n",
       "      <td>3</td>\n",
       "      <td>19</td>\n",
       "      <td>14</td>\n",
       "      <td>7</td>\n",
       "      <td>22</td>\n",
       "      <td>7</td>\n",
       "      <td>0</td>\n",
       "      <td>8</td>\n",
       "      <td>28</td>\n",
       "      <td>250010101003</td>\n",
       "    </tr>\n",
       "    <tr>\n",
       "      <th>250010101004</th>\n",
       "      <td>62</td>\n",
       "      <td>4</td>\n",
       "      <td>35</td>\n",
       "      <td>23</td>\n",
       "      <td>12</td>\n",
       "      <td>18</td>\n",
       "      <td>32</td>\n",
       "      <td>7</td>\n",
       "      <td>10</td>\n",
       "      <td>45</td>\n",
       "      <td>250010101004</td>\n",
       "    </tr>\n",
       "    <tr>\n",
       "      <th>250010101005</th>\n",
       "      <td>80</td>\n",
       "      <td>13</td>\n",
       "      <td>35</td>\n",
       "      <td>32</td>\n",
       "      <td>21</td>\n",
       "      <td>37</td>\n",
       "      <td>22</td>\n",
       "      <td>0</td>\n",
       "      <td>8</td>\n",
       "      <td>72</td>\n",
       "      <td>250010101005</td>\n",
       "    </tr>\n",
       "  </tbody>\n",
       "</table>\n",
       "</div>"
      ],
      "text/plain": [
       "                             S000  SA01  SA02  SA03  SE01  SE02  SE03  SI01  \\\n",
       "h_block_group w_block_group                                                   \n",
       "250010101001  250010101001     30     5    13    12     7    11    12     0   \n",
       "              250010101002     12     4     4     4     2     7     3     1   \n",
       "              250010101003     36     3    19    14     7    22     7     0   \n",
       "              250010101004     62     4    35    23    12    18    32     7   \n",
       "              250010101005     80    13    35    32    21    37    22     0   \n",
       "\n",
       "                             SI02  SI03 w_block_group  \n",
       "h_block_group w_block_group                            \n",
       "250010101001  250010101001     15    15  250010101001  \n",
       "              250010101002      1    10  250010101002  \n",
       "              250010101003      8    28  250010101003  \n",
       "              250010101004     10    45  250010101004  \n",
       "              250010101005      8    72  250010101005  "
      ]
     },
     "execution_count": 24,
     "metadata": {},
     "output_type": "execute_result"
    }
   ],
   "source": [
    "od_by_hbg_wbg.head()"
   ]
  },
  {
   "cell_type": "code",
   "execution_count": 25,
   "metadata": {},
   "outputs": [
    {
     "data": {
      "text/html": [
       "<div>\n",
       "<style scoped>\n",
       "    .dataframe tbody tr th:only-of-type {\n",
       "        vertical-align: middle;\n",
       "    }\n",
       "\n",
       "    .dataframe tbody tr th {\n",
       "        vertical-align: top;\n",
       "    }\n",
       "\n",
       "    .dataframe thead th {\n",
       "        text-align: right;\n",
       "    }\n",
       "</style>\n",
       "<table border=\"1\" class=\"dataframe\">\n",
       "  <thead>\n",
       "    <tr style=\"text-align: right;\">\n",
       "      <th></th>\n",
       "      <th></th>\n",
       "      <th>S000</th>\n",
       "      <th>SA01</th>\n",
       "      <th>SA02</th>\n",
       "      <th>SA03</th>\n",
       "      <th>SE01</th>\n",
       "      <th>SE02</th>\n",
       "      <th>SE03</th>\n",
       "      <th>SI01</th>\n",
       "      <th>SI02</th>\n",
       "      <th>SI03</th>\n",
       "    </tr>\n",
       "    <tr>\n",
       "      <th>w_block_group</th>\n",
       "      <th>h_block_group</th>\n",
       "      <th></th>\n",
       "      <th></th>\n",
       "      <th></th>\n",
       "      <th></th>\n",
       "      <th></th>\n",
       "      <th></th>\n",
       "      <th></th>\n",
       "      <th></th>\n",
       "      <th></th>\n",
       "      <th></th>\n",
       "    </tr>\n",
       "  </thead>\n",
       "  <tbody>\n",
       "    <tr>\n",
       "      <th rowspan=\"5\" valign=\"top\">250010101001</th>\n",
       "      <th>250010101001</th>\n",
       "      <td>30</td>\n",
       "      <td>5</td>\n",
       "      <td>13</td>\n",
       "      <td>12</td>\n",
       "      <td>7</td>\n",
       "      <td>11</td>\n",
       "      <td>12</td>\n",
       "      <td>0</td>\n",
       "      <td>15</td>\n",
       "      <td>15</td>\n",
       "    </tr>\n",
       "    <tr>\n",
       "      <th>250010101002</th>\n",
       "      <td>18</td>\n",
       "      <td>3</td>\n",
       "      <td>9</td>\n",
       "      <td>6</td>\n",
       "      <td>3</td>\n",
       "      <td>9</td>\n",
       "      <td>6</td>\n",
       "      <td>0</td>\n",
       "      <td>6</td>\n",
       "      <td>12</td>\n",
       "    </tr>\n",
       "    <tr>\n",
       "      <th>250010101003</th>\n",
       "      <td>35</td>\n",
       "      <td>6</td>\n",
       "      <td>13</td>\n",
       "      <td>16</td>\n",
       "      <td>7</td>\n",
       "      <td>10</td>\n",
       "      <td>18</td>\n",
       "      <td>1</td>\n",
       "      <td>16</td>\n",
       "      <td>18</td>\n",
       "    </tr>\n",
       "    <tr>\n",
       "      <th>250010101004</th>\n",
       "      <td>37</td>\n",
       "      <td>5</td>\n",
       "      <td>25</td>\n",
       "      <td>7</td>\n",
       "      <td>6</td>\n",
       "      <td>19</td>\n",
       "      <td>12</td>\n",
       "      <td>0</td>\n",
       "      <td>19</td>\n",
       "      <td>18</td>\n",
       "    </tr>\n",
       "    <tr>\n",
       "      <th>250010101005</th>\n",
       "      <td>23</td>\n",
       "      <td>1</td>\n",
       "      <td>13</td>\n",
       "      <td>9</td>\n",
       "      <td>7</td>\n",
       "      <td>6</td>\n",
       "      <td>10</td>\n",
       "      <td>0</td>\n",
       "      <td>9</td>\n",
       "      <td>14</td>\n",
       "    </tr>\n",
       "  </tbody>\n",
       "</table>\n",
       "</div>"
      ],
      "text/plain": [
       "                             S000  SA01  SA02  SA03  SE01  SE02  SE03  SI01  \\\n",
       "w_block_group h_block_group                                                   \n",
       "250010101001  250010101001     30     5    13    12     7    11    12     0   \n",
       "              250010101002     18     3     9     6     3     9     6     0   \n",
       "              250010101003     35     6    13    16     7    10    18     1   \n",
       "              250010101004     37     5    25     7     6    19    12     0   \n",
       "              250010101005     23     1    13     9     7     6    10     0   \n",
       "\n",
       "                             SI02  SI03  \n",
       "w_block_group h_block_group              \n",
       "250010101001  250010101001     15    15  \n",
       "              250010101002      6    12  \n",
       "              250010101003     16    18  \n",
       "              250010101004     19    18  \n",
       "              250010101005      9    14  "
      ]
     },
     "execution_count": 25,
     "metadata": {},
     "output_type": "execute_result"
    }
   ],
   "source": [
    "od_by_wbg_hbg.head()"
   ]
  },
  {
   "cell_type": "markdown",
   "metadata": {},
   "source": [
    "RAC and WAC fles"
   ]
  },
  {
   "cell_type": "code",
   "execution_count": 26,
   "metadata": {},
   "outputs": [],
   "source": [
    "rac=get_rac_data(state='ma')\n",
    "wac=get_wac_data(state='ma')"
   ]
  },
  {
   "cell_type": "markdown",
   "metadata": {},
   "source": [
    "### Compute metrics for a single GEOID"
   ]
  },
  {
   "cell_type": "markdown",
   "metadata": {},
   "source": [
    "#### Live-Work Score"
   ]
  },
  {
   "cell_type": "code",
   "execution_count": 28,
   "metadata": {},
   "outputs": [],
   "source": [
    "bg_geoid='250092033014'\n",
    "reachable=bg_to_walkable_bg[bg_geoid]\n",
    "live_reachable=od_by_hbg_wbg.loc[list(reachable)]\n",
    "work_reachable=od_by_wbg_hbg.loc[list(reachable)]\n",
    "live_work_reachable=live_reachable.loc[live_reachable['w_block_group'].isin(reachable)]"
   ]
  },
  {
   "cell_type": "code",
   "execution_count": 29,
   "metadata": {},
   "outputs": [],
   "source": [
    "sum_live_reachable=live_reachable.sum()\n",
    "sum_work_reachable=work_reachable.sum()\n",
    "sum_live_work_reachable=live_work_reachable.sum()"
   ]
  },
  {
   "cell_type": "markdown",
   "metadata": {},
   "source": [
    "use Jaccard Index (Intersection over Union)"
   ]
  },
  {
   "cell_type": "markdown",
   "metadata": {
    "collapsed": true
   },
   "source": [
    "https://en.wikipedia.org/wiki/Jaccard_index"
   ]
  },
  {
   "cell_type": "code",
   "execution_count": 30,
   "metadata": {},
   "outputs": [
    {
     "data": {
      "text/plain": [
       "0.009880028228652082"
      ]
     },
     "execution_count": 30,
     "metadata": {},
     "output_type": "execute_result"
    }
   ],
   "source": [
    "jaccard=sum_live_work_reachable['S000']/(\n",
    "    sum_live_reachable['S000'] + sum_work_reachable['S000'] - sum_live_work_reachable['S000'])\n",
    "jaccard"
   ]
  },
  {
   "cell_type": "markdown",
   "metadata": {},
   "source": [
    "#### Similarity of Live and Work Communities"
   ]
  },
  {
   "cell_type": "markdown",
   "metadata": {},
   "source": [
    "use dot product of vectors for each variable"
   ]
  },
  {
   "cell_type": "code",
   "execution_count": 31,
   "metadata": {},
   "outputs": [
    {
     "name": "stdout",
     "output_type": "stream",
     "text": [
      "SE01    265\n",
      "SE02    252\n",
      "SE03    776\n",
      "dtype: object\n",
      "SE01    30\n",
      "SE02    30\n",
      "SE03    78\n",
      "dtype: int64\n"
     ]
    }
   ],
   "source": [
    "live_income_vector=sum_live_reachable[['SE01','SE02','SE03']]\n",
    "work_income_vector=sum_work_reachable[['SE01','SE02','SE03']]\n",
    "print(live_income_vector)\n",
    "print(work_income_vector)"
   ]
  },
  {
   "cell_type": "code",
   "execution_count": 32,
   "metadata": {},
   "outputs": [],
   "source": [
    "from numpy import dot\n",
    "from numpy.linalg import norm"
   ]
  },
  {
   "cell_type": "code",
   "execution_count": 33,
   "metadata": {},
   "outputs": [
    {
     "data": {
      "text/plain": [
       "0.998266507763609"
      ]
     },
     "execution_count": 33,
     "metadata": {},
     "output_type": "execute_result"
    }
   ],
   "source": [
    "a, b = live_income_vector.values, work_income_vector.values\n",
    "dot(a,b)/(norm(a)*norm(b))"
   ]
  },
  {
   "cell_type": "code",
   "execution_count": null,
   "metadata": {},
   "outputs": [],
   "source": []
  },
  {
   "cell_type": "code",
   "execution_count": null,
   "metadata": {
    "collapsed": true
   },
   "outputs": [],
   "source": []
  }
 ],
 "metadata": {
  "anaconda-cloud": {},
  "kernelspec": {
   "display_name": "Python 3",
   "language": "python",
   "name": "python3"
  },
  "language_info": {
   "codemirror_mode": {
    "name": "ipython",
    "version": 3
   },
   "file_extension": ".py",
   "mimetype": "text/x-python",
   "name": "python",
   "nbconvert_exporter": "python",
   "pygments_lexer": "ipython3",
   "version": "3.8.2"
  }
 },
 "nbformat": 4,
 "nbformat_minor": 2
}
